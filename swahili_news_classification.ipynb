{
  "nbformat": 4,
  "nbformat_minor": 0,
  "metadata": {
    "colab": {
      "provenance": []
    },
    "kernelspec": {
      "name": "python3",
      "display_name": "Python 3"
    },
    "language_info": {
      "name": "python"
    },
    "widgets": {
      "application/vnd.jupyter.widget-state+json": {
        "6973d78dd9fa4eda86229cc115f20dfa": {
          "model_module": "@jupyter-widgets/controls",
          "model_name": "HBoxModel",
          "model_module_version": "1.5.0",
          "state": {
            "_dom_classes": [],
            "_model_module": "@jupyter-widgets/controls",
            "_model_module_version": "1.5.0",
            "_model_name": "HBoxModel",
            "_view_count": null,
            "_view_module": "@jupyter-widgets/controls",
            "_view_module_version": "1.5.0",
            "_view_name": "HBoxView",
            "box_style": "",
            "children": [
              "IPY_MODEL_2af866fd63e64f7595113bbef54e5c69",
              "IPY_MODEL_f86aa851f40244e6928c3baa712e81e0",
              "IPY_MODEL_47096d3ebd3e4934ab98842b7287e298"
            ],
            "layout": "IPY_MODEL_ef6eb18efa1f44b3abaf801106a2ac99"
          }
        },
        "2af866fd63e64f7595113bbef54e5c69": {
          "model_module": "@jupyter-widgets/controls",
          "model_name": "HTMLModel",
          "model_module_version": "1.5.0",
          "state": {
            "_dom_classes": [],
            "_model_module": "@jupyter-widgets/controls",
            "_model_module_version": "1.5.0",
            "_model_name": "HTMLModel",
            "_view_count": null,
            "_view_module": "@jupyter-widgets/controls",
            "_view_module_version": "1.5.0",
            "_view_name": "HTMLView",
            "description": "",
            "description_tooltip": null,
            "layout": "IPY_MODEL_8357866ff0444be8b41df3744c971135",
            "placeholder": "​",
            "style": "IPY_MODEL_b6e6ebe3027d48e3bb80ddcabfc256f1",
            "value": "100%"
          }
        },
        "f86aa851f40244e6928c3baa712e81e0": {
          "model_module": "@jupyter-widgets/controls",
          "model_name": "FloatProgressModel",
          "model_module_version": "1.5.0",
          "state": {
            "_dom_classes": [],
            "_model_module": "@jupyter-widgets/controls",
            "_model_module_version": "1.5.0",
            "_model_name": "FloatProgressModel",
            "_view_count": null,
            "_view_module": "@jupyter-widgets/controls",
            "_view_module_version": "1.5.0",
            "_view_name": "ProgressView",
            "bar_style": "success",
            "description": "",
            "description_tooltip": null,
            "layout": "IPY_MODEL_41ead56384044169837c54f59c9ff1ce",
            "max": 2,
            "min": 0,
            "orientation": "horizontal",
            "style": "IPY_MODEL_09786fb93f424ca7a9e7e3d4433f5f70",
            "value": 2
          }
        },
        "47096d3ebd3e4934ab98842b7287e298": {
          "model_module": "@jupyter-widgets/controls",
          "model_name": "HTMLModel",
          "model_module_version": "1.5.0",
          "state": {
            "_dom_classes": [],
            "_model_module": "@jupyter-widgets/controls",
            "_model_module_version": "1.5.0",
            "_model_name": "HTMLModel",
            "_view_count": null,
            "_view_module": "@jupyter-widgets/controls",
            "_view_module_version": "1.5.0",
            "_view_name": "HTMLView",
            "description": "",
            "description_tooltip": null,
            "layout": "IPY_MODEL_a9db20494adb434285a4222377cf9af8",
            "placeholder": "​",
            "style": "IPY_MODEL_9feb88567db244e4826d5d8ed78183df",
            "value": " 2/2 [00:00&lt;00:00, 58.47it/s]"
          }
        },
        "ef6eb18efa1f44b3abaf801106a2ac99": {
          "model_module": "@jupyter-widgets/base",
          "model_name": "LayoutModel",
          "model_module_version": "1.2.0",
          "state": {
            "_model_module": "@jupyter-widgets/base",
            "_model_module_version": "1.2.0",
            "_model_name": "LayoutModel",
            "_view_count": null,
            "_view_module": "@jupyter-widgets/base",
            "_view_module_version": "1.2.0",
            "_view_name": "LayoutView",
            "align_content": null,
            "align_items": null,
            "align_self": null,
            "border": null,
            "bottom": null,
            "display": null,
            "flex": null,
            "flex_flow": null,
            "grid_area": null,
            "grid_auto_columns": null,
            "grid_auto_flow": null,
            "grid_auto_rows": null,
            "grid_column": null,
            "grid_gap": null,
            "grid_row": null,
            "grid_template_areas": null,
            "grid_template_columns": null,
            "grid_template_rows": null,
            "height": null,
            "justify_content": null,
            "justify_items": null,
            "left": null,
            "margin": null,
            "max_height": null,
            "max_width": null,
            "min_height": null,
            "min_width": null,
            "object_fit": null,
            "object_position": null,
            "order": null,
            "overflow": null,
            "overflow_x": null,
            "overflow_y": null,
            "padding": null,
            "right": null,
            "top": null,
            "visibility": null,
            "width": null
          }
        },
        "8357866ff0444be8b41df3744c971135": {
          "model_module": "@jupyter-widgets/base",
          "model_name": "LayoutModel",
          "model_module_version": "1.2.0",
          "state": {
            "_model_module": "@jupyter-widgets/base",
            "_model_module_version": "1.2.0",
            "_model_name": "LayoutModel",
            "_view_count": null,
            "_view_module": "@jupyter-widgets/base",
            "_view_module_version": "1.2.0",
            "_view_name": "LayoutView",
            "align_content": null,
            "align_items": null,
            "align_self": null,
            "border": null,
            "bottom": null,
            "display": null,
            "flex": null,
            "flex_flow": null,
            "grid_area": null,
            "grid_auto_columns": null,
            "grid_auto_flow": null,
            "grid_auto_rows": null,
            "grid_column": null,
            "grid_gap": null,
            "grid_row": null,
            "grid_template_areas": null,
            "grid_template_columns": null,
            "grid_template_rows": null,
            "height": null,
            "justify_content": null,
            "justify_items": null,
            "left": null,
            "margin": null,
            "max_height": null,
            "max_width": null,
            "min_height": null,
            "min_width": null,
            "object_fit": null,
            "object_position": null,
            "order": null,
            "overflow": null,
            "overflow_x": null,
            "overflow_y": null,
            "padding": null,
            "right": null,
            "top": null,
            "visibility": null,
            "width": null
          }
        },
        "b6e6ebe3027d48e3bb80ddcabfc256f1": {
          "model_module": "@jupyter-widgets/controls",
          "model_name": "DescriptionStyleModel",
          "model_module_version": "1.5.0",
          "state": {
            "_model_module": "@jupyter-widgets/controls",
            "_model_module_version": "1.5.0",
            "_model_name": "DescriptionStyleModel",
            "_view_count": null,
            "_view_module": "@jupyter-widgets/base",
            "_view_module_version": "1.2.0",
            "_view_name": "StyleView",
            "description_width": ""
          }
        },
        "41ead56384044169837c54f59c9ff1ce": {
          "model_module": "@jupyter-widgets/base",
          "model_name": "LayoutModel",
          "model_module_version": "1.2.0",
          "state": {
            "_model_module": "@jupyter-widgets/base",
            "_model_module_version": "1.2.0",
            "_model_name": "LayoutModel",
            "_view_count": null,
            "_view_module": "@jupyter-widgets/base",
            "_view_module_version": "1.2.0",
            "_view_name": "LayoutView",
            "align_content": null,
            "align_items": null,
            "align_self": null,
            "border": null,
            "bottom": null,
            "display": null,
            "flex": null,
            "flex_flow": null,
            "grid_area": null,
            "grid_auto_columns": null,
            "grid_auto_flow": null,
            "grid_auto_rows": null,
            "grid_column": null,
            "grid_gap": null,
            "grid_row": null,
            "grid_template_areas": null,
            "grid_template_columns": null,
            "grid_template_rows": null,
            "height": null,
            "justify_content": null,
            "justify_items": null,
            "left": null,
            "margin": null,
            "max_height": null,
            "max_width": null,
            "min_height": null,
            "min_width": null,
            "object_fit": null,
            "object_position": null,
            "order": null,
            "overflow": null,
            "overflow_x": null,
            "overflow_y": null,
            "padding": null,
            "right": null,
            "top": null,
            "visibility": null,
            "width": null
          }
        },
        "09786fb93f424ca7a9e7e3d4433f5f70": {
          "model_module": "@jupyter-widgets/controls",
          "model_name": "ProgressStyleModel",
          "model_module_version": "1.5.0",
          "state": {
            "_model_module": "@jupyter-widgets/controls",
            "_model_module_version": "1.5.0",
            "_model_name": "ProgressStyleModel",
            "_view_count": null,
            "_view_module": "@jupyter-widgets/base",
            "_view_module_version": "1.2.0",
            "_view_name": "StyleView",
            "bar_color": null,
            "description_width": ""
          }
        },
        "a9db20494adb434285a4222377cf9af8": {
          "model_module": "@jupyter-widgets/base",
          "model_name": "LayoutModel",
          "model_module_version": "1.2.0",
          "state": {
            "_model_module": "@jupyter-widgets/base",
            "_model_module_version": "1.2.0",
            "_model_name": "LayoutModel",
            "_view_count": null,
            "_view_module": "@jupyter-widgets/base",
            "_view_module_version": "1.2.0",
            "_view_name": "LayoutView",
            "align_content": null,
            "align_items": null,
            "align_self": null,
            "border": null,
            "bottom": null,
            "display": null,
            "flex": null,
            "flex_flow": null,
            "grid_area": null,
            "grid_auto_columns": null,
            "grid_auto_flow": null,
            "grid_auto_rows": null,
            "grid_column": null,
            "grid_gap": null,
            "grid_row": null,
            "grid_template_areas": null,
            "grid_template_columns": null,
            "grid_template_rows": null,
            "height": null,
            "justify_content": null,
            "justify_items": null,
            "left": null,
            "margin": null,
            "max_height": null,
            "max_width": null,
            "min_height": null,
            "min_width": null,
            "object_fit": null,
            "object_position": null,
            "order": null,
            "overflow": null,
            "overflow_x": null,
            "overflow_y": null,
            "padding": null,
            "right": null,
            "top": null,
            "visibility": null,
            "width": null
          }
        },
        "9feb88567db244e4826d5d8ed78183df": {
          "model_module": "@jupyter-widgets/controls",
          "model_name": "DescriptionStyleModel",
          "model_module_version": "1.5.0",
          "state": {
            "_model_module": "@jupyter-widgets/controls",
            "_model_module_version": "1.5.0",
            "_model_name": "DescriptionStyleModel",
            "_view_count": null,
            "_view_module": "@jupyter-widgets/base",
            "_view_module_version": "1.2.0",
            "_view_name": "StyleView",
            "description_width": ""
          }
        }
      }
    }
  },
  "cells": [
    {
      "cell_type": "markdown",
      "source": [
        "The Swahili news dataset contains more than 31,000 news articles from different news categories such as Local, International, Business or Financial, health, sports, and Entertainment. The Swahili language is one of the most spoken languages in Africa, it is spoken by 100-150 million people across East Africa.\n",
        "\n",
        "The data was collected from different news publication platforms inside and outside of Tanzania. The dataset will be used to develop a multi-class classification model to classify news content according to their specific categories specified.\n",
        "\n",
        "The model will be used by Swahili online news platforms to automatically group news according to their categories and help readers find the specific news they want to read."
      ],
      "metadata": {
        "id": "DK3Rfzzn0mQ7"
      }
    },
    {
      "cell_type": "code",
      "source": [
        "!pip install pandarallel\n",
        "!pip install nltk\n",
        "!pip install datasets"
      ],
      "metadata": {
        "id": "nD_vA-XHsS-4"
      },
      "execution_count": null,
      "outputs": []
    },
    {
      "cell_type": "code",
      "execution_count": 2,
      "metadata": {
        "id": "VNnEqimKRo7y"
      },
      "outputs": [],
      "source": [
        "from datasets import load_dataset\n",
        "import pandas as pd"
      ]
    },
    {
      "cell_type": "code",
      "source": [
        "# load the swahili_news dataset\n",
        "dataset = load_dataset(\"swahili_news\")"
      ],
      "metadata": {
        "colab": {
          "base_uri": "https://localhost:8080/",
          "height": 86,
          "referenced_widgets": [
            "6973d78dd9fa4eda86229cc115f20dfa",
            "2af866fd63e64f7595113bbef54e5c69",
            "f86aa851f40244e6928c3baa712e81e0",
            "47096d3ebd3e4934ab98842b7287e298",
            "ef6eb18efa1f44b3abaf801106a2ac99",
            "8357866ff0444be8b41df3744c971135",
            "b6e6ebe3027d48e3bb80ddcabfc256f1",
            "41ead56384044169837c54f59c9ff1ce",
            "09786fb93f424ca7a9e7e3d4433f5f70",
            "a9db20494adb434285a4222377cf9af8",
            "9feb88567db244e4826d5d8ed78183df"
          ]
        },
        "id": "lalEImnURwwP",
        "outputId": "30440664-0961-4255-a268-a93c418bb001"
      },
      "execution_count": 11,
      "outputs": [
        {
          "output_type": "stream",
          "name": "stderr",
          "text": [
            "WARNING:datasets.builder:Found cached dataset swahili_news (/root/.cache/huggingface/datasets/swahili_news/swahili_news/0.2.0/ed5c9a13b97e0d2864ff1e34bfbd38b2f2c54fea77acffcaef187eb4f13cf8cc)\n"
          ]
        },
        {
          "output_type": "display_data",
          "data": {
            "text/plain": [
              "  0%|          | 0/2 [00:00<?, ?it/s]"
            ],
            "application/vnd.jupyter.widget-view+json": {
              "version_major": 2,
              "version_minor": 0,
              "model_id": "6973d78dd9fa4eda86229cc115f20dfa"
            }
          },
          "metadata": {}
        }
      ]
    },
    {
      "cell_type": "code",
      "source": [
        "dataset"
      ],
      "metadata": {
        "colab": {
          "base_uri": "https://localhost:8080/"
        },
        "id": "bJUIyHdORxrB",
        "outputId": "da75433c-e652-4b06-e3f4-0c19c6541782"
      },
      "execution_count": 4,
      "outputs": [
        {
          "output_type": "execute_result",
          "data": {
            "text/plain": [
              "DatasetDict({\n",
              "    train: Dataset({\n",
              "        features: ['text', 'label'],\n",
              "        num_rows: 22207\n",
              "    })\n",
              "    test: Dataset({\n",
              "        features: ['text', 'label'],\n",
              "        num_rows: 7338\n",
              "    })\n",
              "})"
            ]
          },
          "metadata": {},
          "execution_count": 4
        }
      ]
    },
    {
      "cell_type": "markdown",
      "source": [
        "This code snippet will create a pandas DataFrame called df with two columns: text and label, and a number of rows equal to the sum of the number of rows in the train and test datasets.\n",
        "\n",
        "Note that the ignore_index=True argument in the concat() function is used to reset the index of the concatenated DataFrame, since the two original DataFrames may have overlapping index values."
      ],
      "metadata": {
        "id": "2J5V3KtqoeJS"
      }
    },
    {
      "cell_type": "code",
      "source": [
        "# convert the train and test datasets to separate pandas DataFrames\n",
        "train_df = dataset['train'].to_pandas()\n",
        "test_df = dataset['test'].to_pandas()\n",
        "\n",
        "# concatenate the two dataframes\n",
        "df = pd.concat([train_df, test_df], ignore_index=True)\n",
        "\n",
        "# display the resulting DataFrame\n",
        "print(df.head())"
      ],
      "metadata": {
        "colab": {
          "base_uri": "https://localhost:8080/"
        },
        "id": "-9rl2ASUSbfm",
        "outputId": "c3bdf8dd-2c8c-47c7-f261-0bd45b0550c0"
      },
      "execution_count": 13,
      "outputs": [
        {
          "output_type": "stream",
          "name": "stdout",
          "text": [
            "                                                text  label\n",
            "0   Bodi ya Utalii Tanzania (TTB) imesema, itafan...      0\n",
            "1   PENDO FUNDISHA-MBEYA RAIS Dk. John Magufuri, ...      1\n",
            "2  Mwandishi Wetu -Singida BENKI ya NMB imetoa ms...      0\n",
            "3   TIMU ya taifa ya Tanzania, Serengeti Boys jan...      2\n",
            "4   Na AGATHA CHARLES – DAR ES SALAAM ALIYEKUWA K...      1\n"
          ]
        }
      ]
    },
    {
      "cell_type": "code",
      "source": [
        "df['label'].unique()"
      ],
      "metadata": {
        "colab": {
          "base_uri": "https://localhost:8080/"
        },
        "id": "W4iyBCAvoNk2",
        "outputId": "2d00b753-da8e-4aa3-a3b4-a66c086d7ee3"
      },
      "execution_count": 14,
      "outputs": [
        {
          "output_type": "execute_result",
          "data": {
            "text/plain": [
              "array([0, 1, 2, 3, 4, 5])"
            ]
          },
          "metadata": {},
          "execution_count": 14
        }
      ]
    },
    {
      "cell_type": "markdown",
      "source": [
        "Punkt: This tokenizer divides a text into a list of sentences by using an unsupervised algorithm to build a model for abbreviation words, collocations, and words that start sentences. It must be trained on a large collection of plain text in a target language before it can be used."
      ],
      "metadata": {
        "id": "B4AZ1QdsstjT"
      }
    },
    {
      "cell_type": "code",
      "source": [
        "import nltk\n",
        "nltk.download('punkt')"
      ],
      "metadata": {
        "colab": {
          "base_uri": "https://localhost:8080/"
        },
        "id": "iskxwkZoqkE2",
        "outputId": "e263ccbd-dce0-409f-e65e-fbcadbe810b7"
      },
      "execution_count": 25,
      "outputs": [
        {
          "output_type": "stream",
          "name": "stderr",
          "text": [
            "[nltk_data] Downloading package punkt to /root/nltk_data...\n",
            "[nltk_data]   Package punkt is already up-to-date!\n"
          ]
        },
        {
          "output_type": "execute_result",
          "data": {
            "text/plain": [
              "True"
            ]
          },
          "metadata": {},
          "execution_count": 25
        }
      ]
    },
    {
      "cell_type": "code",
      "source": [
        "from pandarallel import pandarallel\n",
        "from nltk.stem import PorterStemmer\n",
        "import re\n",
        "\n",
        "\n",
        "stemmer = PorterStemmer()\n",
        "# preprocess the text data\n",
        "\n",
        "def preprocess(text):\n",
        "\n",
        "  # convert to lowercase\n",
        "  text = text.lower()\n",
        "\n",
        "  #remove special characters\n",
        "  text = re.sub(r'[^\\w\\s]', '', text)\n",
        "\n",
        "  # tokenize the text\n",
        "  tokens = nltk.word_tokenize(text)\n",
        "\n",
        "  #Performing word stemming\n",
        "  tokens = [stemmer.stem(token) for token in tokens]\n",
        "\n",
        "  # rejoin the tokens into a string\n",
        "  text = ' '.join(tokens)\n",
        "    \n",
        "  return text\n",
        "\n",
        "\n",
        "# apply the preprocess function to the 'text' column of the DataFrame\n",
        "df['text'] = df['text'].apply(preprocess)\n",
        "\n",
        "# display the resulting DataFrame\n",
        "print(df.head())"
      ],
      "metadata": {
        "colab": {
          "base_uri": "https://localhost:8080/"
        },
        "id": "rYN4QbC-soRN",
        "outputId": "ac523a27-18cf-49c2-ded9-c4010f7b8482"
      },
      "execution_count": 26,
      "outputs": [
        {
          "output_type": "stream",
          "name": "stdout",
          "text": [
            "                                                text  label\n",
            "0  bodi ya utalii tanzania ttb imesema itafanya m...      0\n",
            "1  pendo fundishambeya rai dk john magufuri ameta...      1\n",
            "2  mwandishi wetu singida benki ya nmb imetoa msa...      0\n",
            "3  timu ya taifa ya tanzania serengeti boy jana i...      2\n",
            "4  na agatha charl dar es salaam aliyekuwa katibu...      1\n"
          ]
        }
      ]
    }
  ]
}